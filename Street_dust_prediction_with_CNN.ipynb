{
  "nbformat": 4,
  "nbformat_minor": 0,
  "metadata": {
    "accelerator": "GPU",
    "colab": {
      "name": "Street_dust_prediction_with_CNN.ipynb",
      "provenance": [],
      "collapsed_sections": [],
      "include_colab_link": true
    },
    "kernelspec": {
      "name": "python3",
      "display_name": "Python 3"
    }
  },
  "cells": [
    {
      "cell_type": "markdown",
      "metadata": {
        "id": "view-in-github",
        "colab_type": "text"
      },
      "source": [
        "<a href=\"https://colab.research.google.com/github/hhannuniemi/street_dust_prediction/blob/master/Street_dust_prediction_with_CNN.ipynb\" target=\"_parent\"><img src=\"https://colab.research.google.com/assets/colab-badge.svg\" alt=\"Open In Colab\"/></a>"
      ]
    },
    {
      "cell_type": "markdown",
      "metadata": {
        "colab_type": "text",
        "id": "fKabTvqRIThK"
      },
      "source": [
        "# Predicting street dust concentrations with dilated causal convolutional neural networks"
      ]
    },
    {
      "cell_type": "markdown",
      "metadata": {
        "colab_type": "text",
        "id": "P18xFrJJIEVI"
      },
      "source": [
        "## Problem and data description\n",
        "\n",
        "A model for predicting street dust concentrations for 12 hours ahead based on 64 hours history observations is developed in this project work. Model architecture has got inspiration from adapted WaveNet network by *Borovykh et al., 2018* . Network contains stacks of dilated convolutions that allow it to access a broad range of history when forecasting, residual connections, a LeakyRELU activation function and conditioning with multivariate input data. PyTorch is used to build the model.\n",
        "\n",
        "Street dust is a recurring problem in Finland especially in springtime because sand and other road surface material are released into the air when snow and ice have melted and streets have dried. Street dust consist of materials from street surfaces, sanding materials, and materials from brakes and studded tires. Street dust concentrations are typically higher also during end of the year when road sanding usually begins, but roads are not yet fully covered by snow and ice. Construction sites and street work also cause street dust. Most street dust particles are less than 10 micrometres (PM10) in diameter. \n",
        "\n",
        "Street dust can cause respiratory tract irritation causing cold-like symptoms, coughing and irritation to the eyes, nose and throat. People suffering from asthma, small children and and those suffering from the coronary artery disease are most vulnerable to adversarial effects of street dust. Weather conditions,  quality of the road surface and amount of traffic affects street dust concentration levels. Wet conditions prevent dust from street surfaces rising into the air, and gusty wind can lift street dust efficiently from unclean roads. The dustiest areas are busy streets and cross-roads during rush hours."
      ]
    },
    {
      "cell_type": "code",
      "metadata": {
        "colab_type": "code",
        "id": "oFmlGkKLif_Z",
        "colab": {
          "base_uri": "https://localhost:8080/",
          "height": 70
        },
        "outputId": "c98fa6a9-ee76-4802-86f4-bf5664841620"
      },
      "source": [
        "import os\n",
        "import time\n",
        "import copy\n",
        "import numpy as np\n",
        "import pandas as pd\n",
        "from sklearn.preprocessing import StandardScaler\n",
        "from sklearn.metrics import mean_absolute_error\n",
        "from datetime import timedelta\n",
        "import seaborn as sns\n",
        "import matplotlib.pyplot as plt\n",
        "%matplotlib inline\n",
        "from matplotlib.lines import Line2D\n",
        "\n",
        "import torch\n",
        "import torch.nn as nn\n",
        "import torch.nn.functional as F\n",
        "import torch.optim as optim\n",
        "import torch.utils.data as data_load"
      ],
      "execution_count": 1,
      "outputs": [
        {
          "output_type": "stream",
          "text": [
            "/usr/local/lib/python3.6/dist-packages/statsmodels/tools/_testing.py:19: FutureWarning: pandas.util.testing is deprecated. Use the functions in the public API at pandas.testing instead.\n",
            "  import pandas.util.testing as tm\n"
          ],
          "name": "stderr"
        }
      ]
    },
    {
      "cell_type": "code",
      "metadata": {
        "colab_type": "code",
        "id": "MzFy23u8ipxs",
        "colab": {
          "base_uri": "https://localhost:8080/",
          "height": 34
        },
        "outputId": "6457ff9d-6547-4416-8dc4-f2f0a0f12571"
      },
      "source": [
        "device = torch.device(\"cuda:0\" if torch.cuda.is_available() else \"cpu\")\n",
        "print(device)"
      ],
      "execution_count": 2,
      "outputs": [
        {
          "output_type": "stream",
          "text": [
            "cuda:0\n"
          ],
          "name": "stdout"
        }
      ]
    },
    {
      "cell_type": "markdown",
      "metadata": {
        "id": "0F9S8eXdwwKk",
        "colab_type": "text"
      },
      "source": [
        "Input data is history observations of hourly PM10 concentrations, amount of rain, temperature and wind speed. Concentration data is from air quality monitoring station located at near busy street (Mäkelänkatu) in Helsinki, and weather data is from nearby weather station (Kumpula). Data is from period 01.01.2017-30.4.2019, i.e. 28 months of hourly observations. Data is downloaded from https://en.ilmatieteenlaitos.fi/download-observations#!/."
      ]
    },
    {
      "cell_type": "code",
      "metadata": {
        "colab_type": "code",
        "id": "QSjTQYRBoZ2L",
        "colab": {
          "base_uri": "https://localhost:8080/",
          "height": 121
        },
        "outputId": "93049e00-23d5-42d9-8874-b9387a98933e"
      },
      "source": [
        "from google.colab import drive\n",
        "drive.mount('/content/drive')"
      ],
      "execution_count": 3,
      "outputs": [
        {
          "output_type": "stream",
          "text": [
            "Go to this URL in a browser: https://accounts.google.com/o/oauth2/auth?client_id=947318989803-6bn6qk8qdgf4n4g3pfee6491hc0brc4i.apps.googleusercontent.com&redirect_uri=urn%3aietf%3awg%3aoauth%3a2.0%3aoob&scope=email%20https%3a%2f%2fwww.googleapis.com%2fauth%2fdocs.test%20https%3a%2f%2fwww.googleapis.com%2fauth%2fdrive%20https%3a%2f%2fwww.googleapis.com%2fauth%2fdrive.photos.readonly%20https%3a%2f%2fwww.googleapis.com%2fauth%2fpeopleapi.readonly&response_type=code\n",
            "\n",
            "Enter your authorization code:\n",
            "··········\n",
            "Mounted at /content/drive\n"
          ],
          "name": "stdout"
        }
      ]
    },
    {
      "cell_type": "code",
      "metadata": {
        "colab_type": "code",
        "id": "eAnv9I39i_lW",
        "colab": {
          "base_uri": "https://localhost:8080/",
          "height": 212
        },
        "outputId": "ff95a785-edef-4285-b60c-a86b83b4562b"
      },
      "source": [
        "# load data\n",
        "df = pd.read_csv('/content/drive/My Drive/data/PM10_weather_data_LONG2.csv',  parse_dates=[['Year', 'Month', 'Day', 'Time']])\n",
        "df.tail()"
      ],
      "execution_count": 4,
      "outputs": [
        {
          "output_type": "execute_result",
          "data": {
            "text/html": [
              "<div>\n",
              "<style scoped>\n",
              "    .dataframe tbody tr th:only-of-type {\n",
              "        vertical-align: middle;\n",
              "    }\n",
              "\n",
              "    .dataframe tbody tr th {\n",
              "        vertical-align: top;\n",
              "    }\n",
              "\n",
              "    .dataframe thead th {\n",
              "        text-align: right;\n",
              "    }\n",
              "</style>\n",
              "<table border=\"1\" class=\"dataframe\">\n",
              "  <thead>\n",
              "    <tr style=\"text-align: right;\">\n",
              "      <th></th>\n",
              "      <th>Year_Month_Day_Time</th>\n",
              "      <th>Time zone</th>\n",
              "      <th>PM10 concentration (ug/m3)</th>\n",
              "      <th>Amount of rain (mm/h)</th>\n",
              "      <th>Temperature (degC)</th>\n",
              "      <th>Wind speed (m/s)</th>\n",
              "    </tr>\n",
              "  </thead>\n",
              "  <tbody>\n",
              "    <tr>\n",
              "      <th>20395</th>\n",
              "      <td>2019-04-30 19:00:00</td>\n",
              "      <td>UTC</td>\n",
              "      <td>27.6</td>\n",
              "      <td>0.0</td>\n",
              "      <td>5.9</td>\n",
              "      <td>2.8</td>\n",
              "    </tr>\n",
              "    <tr>\n",
              "      <th>20396</th>\n",
              "      <td>2019-04-30 20:00:00</td>\n",
              "      <td>UTC</td>\n",
              "      <td>29.4</td>\n",
              "      <td>0.0</td>\n",
              "      <td>5.2</td>\n",
              "      <td>2.8</td>\n",
              "    </tr>\n",
              "    <tr>\n",
              "      <th>20397</th>\n",
              "      <td>2019-04-30 21:00:00</td>\n",
              "      <td>UTC</td>\n",
              "      <td>20.7</td>\n",
              "      <td>0.0</td>\n",
              "      <td>5.0</td>\n",
              "      <td>2.0</td>\n",
              "    </tr>\n",
              "    <tr>\n",
              "      <th>20398</th>\n",
              "      <td>2019-04-30 22:00:00</td>\n",
              "      <td>UTC</td>\n",
              "      <td>22.9</td>\n",
              "      <td>0.0</td>\n",
              "      <td>5.1</td>\n",
              "      <td>2.3</td>\n",
              "    </tr>\n",
              "    <tr>\n",
              "      <th>20399</th>\n",
              "      <td>2019-04-30 23:00:00</td>\n",
              "      <td>UTC</td>\n",
              "      <td>21.0</td>\n",
              "      <td>0.0</td>\n",
              "      <td>4.8</td>\n",
              "      <td>2.6</td>\n",
              "    </tr>\n",
              "  </tbody>\n",
              "</table>\n",
              "</div>"
            ],
            "text/plain": [
              "      Year_Month_Day_Time Time zone  ...  Temperature (degC)  Wind speed (m/s)\n",
              "20395 2019-04-30 19:00:00       UTC  ...                 5.9               2.8\n",
              "20396 2019-04-30 20:00:00       UTC  ...                 5.2               2.8\n",
              "20397 2019-04-30 21:00:00       UTC  ...                 5.0               2.0\n",
              "20398 2019-04-30 22:00:00       UTC  ...                 5.1               2.3\n",
              "20399 2019-04-30 23:00:00       UTC  ...                 4.8               2.6\n",
              "\n",
              "[5 rows x 6 columns]"
            ]
          },
          "metadata": {
            "tags": []
          },
          "execution_count": 4
        }
      ]
    },
    {
      "cell_type": "code",
      "metadata": {
        "colab_type": "code",
        "id": "LEzeY6xtqI4A",
        "colab": {
          "base_uri": "https://localhost:8080/",
          "height": 50
        },
        "outputId": "7a4a7b23-e43e-48f1-8ee8-56be341d3884"
      },
      "source": [
        "# print start and end time\n",
        "# set the time as index\n",
        "data_size = df.shape[0]\n",
        "print(\"Total amount of hours:\", data_size)\n",
        "df.drop('Time zone', axis=1, inplace=True)\n",
        "first = df['Year_Month_Day_Time'].iloc[0]\n",
        "last = df['Year_Month_Day_Time'].iloc[-1]\n",
        "print(\"Data ranges from %s to %s.\" % (first, last))\n",
        "df = df.set_index('Year_Month_Day_Time')"
      ],
      "execution_count": 5,
      "outputs": [
        {
          "output_type": "stream",
          "text": [
            "Total amount of hours: 20400\n",
            "Data ranges from 2017-01-01 00:00:00 to 2019-04-30 23:00:00.\n"
          ],
          "name": "stdout"
        }
      ]
    },
    {
      "cell_type": "markdown",
      "metadata": {
        "id": "CqLtIHM3wwKx",
        "colab_type": "text"
      },
      "source": [
        "PM10 concentration values varies between -5 and 280 micrograms/m^3. Negative values are probably due to some malfunction in measurement device. From the histograms at Figure 1 we can see that distributions of PM10 concentration and amount of rain are skewed. Distribution of temperature and wind speed are more closer to normal distribution. Time series of PM10 concentration and temperature are shown in Figure 2. "
      ]
    },
    {
      "cell_type": "code",
      "metadata": {
        "id": "vYjzUL_5AUv6",
        "colab_type": "code",
        "colab": {
          "base_uri": "https://localhost:8080/",
          "height": 50
        },
        "outputId": "e40a8de8-a265-4f05-ca09-e4202bfbe461"
      },
      "source": [
        "# check min and max values for the concentration i.e. predictant\n",
        "print(df['PM10 concentration (ug/m3)'].min())\n",
        "print(df['PM10 concentration (ug/m3)'].max())"
      ],
      "execution_count": 6,
      "outputs": [
        {
          "output_type": "stream",
          "text": [
            "-5.2\n",
            "281.7\n"
          ],
          "name": "stdout"
        }
      ]
    },
    {
      "cell_type": "code",
      "metadata": {
        "id": "WwogZSH71UTZ",
        "colab_type": "code",
        "colab": {
          "base_uri": "https://localhost:8080/",
          "height": 281
        },
        "outputId": "a4750e94-5bb1-40ab-9b0a-524aa7a78677"
      },
      "source": [
        "# plot histograms of input data\n",
        "hist = df.hist(bins=20, layout=(1,4), figsize=(12,4))"
      ],
      "execution_count": 7,
      "outputs": [
        {
          "output_type": "display_data",
          "data": {
            "image/png": "[encoded data removed]",
            "text/plain": [
              "<Figure size 864x288 with 4 Axes>"
            ]
          },
          "metadata": {
            "tags": [],
            "needs_background": "light"
          }
        }
      ]
    },
    {
      "cell_type": "markdown",
      "metadata": {
        "id": "QgddoIB-wwK2",
        "colab_type": "text"
      },
      "source": [
        "Figure 1. Histograms of input data."
      ]
    },
    {
      "cell_type": "code",
      "metadata": {
        "colab_type": "code",
        "id": "EXS1WbKzBiBx",
        "colab": {
          "base_uri": "https://localhost:8080/",
          "height": 377
        },
        "outputId": "4a1d1865-51fc-4001-f105-81d4672ff7ce"
      },
      "source": [
        "# plot temperature and PM10 concentration\n",
        "plt.rcParams['figure.figsize']=(14,6)\n",
        "fig2, ax1 = plt.subplots()\n",
        "ax2 = ax1.twinx() \n",
        "ax1.plot(df['Temperature (degC)'], color='orange', label='Temperature')\n",
        "ax2.plot(df['PM10 concentration (ug/m3)'], label='PM10 concentration')\n",
        "ax1.set_ylabel('Temperature (degC)')\n",
        "ax2.set_ylabel('PM10 concentration (ug/m3)')\n",
        "ax2.set_ylim(0, 250)\n",
        "plt.gcf().autofmt_xdate()\n",
        "plt.margins(x=0,y=0)\n",
        "ax1.legend(loc='upper left')\n",
        "ax2.legend(loc='upper right')\n",
        "ax2.set_title('PM10 concentration and temperature')\n",
        "#fig2.savefig('temp_plot.png')"
      ],
      "execution_count": 44,
      "outputs": [
        {
          "output_type": "display_data",
          "data": {
            "image/png": "[encoded data removed]",
            "text/plain": [
              "<Figure size 1008x432 with 2 Axes>"
            ]
          },
          "metadata": {
            "tags": [],
            "needs_background": "light"
          }
        }
      ]
    },
    {
      "cell_type": "markdown",
      "metadata": {
        "id": "h3YCmN6hwwK9",
        "colab_type": "text"
      },
      "source": [
        "Figure 2. Time series of PM10 concentration and temperature."
      ]
    },
    {
      "cell_type": "code",
      "metadata": {
        "colab_type": "code",
        "id": "2KfEMRx4Li_i",
        "colab": {}
      },
      "source": [
        "# plot wind speed and PM10 concentration\n",
        "plt.rcParams['figure.figsize']=(14,6)\n",
        "fig2, ax1 = plt.subplots()\n",
        "ax2 = ax1.twinx() \n",
        "ax1.plot(df['Wind speed (m/s)'], color='orange', label='Wind speed')\n",
        "ax2.plot(df['PM10 concentration (ug/m3)'], label='PM10 concentration')\n",
        "ax1.set_ylabel('Wind speed (m/s)')\n",
        "ax2.set_ylabel('PM10 concentration (ug/m3)')\n",
        "ax2.set_ylim(0, 250)\n",
        "plt.gcf().autofmt_xdate()\n",
        "plt.margins(x=0,y=0)\n",
        "ax1.legend(loc='upper left')\n",
        "ax2.legend(loc='upper right')\n",
        "ax2.set_title('PM10 concentration and wind speed')"
      ],
      "execution_count": null,
      "outputs": []
    },
    {
      "cell_type": "code",
      "metadata": {
        "colab_type": "code",
        "id": "xIntKo9WcYVB",
        "colab": {}
      },
      "source": [
        "# plot amount of rain and PM10 concentration\n",
        "plt.rcParams['figure.figsize']=(14,6)\n",
        "fig1, ax1 = plt.subplots()\n",
        "ax2 = ax1.twinx() \n",
        "ax1.bar(df['Amount of rain (mm/h)'].index, df['Amount of rain (mm/h)'], alpha=0.7, color='orange', label='Amount of rain')\n",
        "ax2.plot(df['PM10 concentration (ug/m3)'], label='PM10 concentration')\n",
        "ax1.set_ylabel('Amount of rain (mm/h)')\n",
        "ax2.set_ylabel('PM10 concentration (ug/m3)')\n",
        "ax2.set_ylim(0, 250)\n",
        "plt.gcf().autofmt_xdate()\n",
        "plt.margins(x=0,y=0)\n",
        "ax1.legend(loc='upper left')\n",
        "ax2.legend(loc='upper right')\n",
        "ax2.set_title('PM10 concentration and amount of rain')"
      ],
      "execution_count": null,
      "outputs": []
    },
    {
      "cell_type": "markdown",
      "metadata": {
        "colab_type": "text",
        "id": "t_bC0nuSKS-C"
      },
      "source": [
        "## Method\n",
        "\n",
        "The adopted dilated causal convolutional neural network stucture is based on Google's famous WaveNet model from first developed for audio forecasting (*van den Oord et al., 2016*).  The intuition behind using convolutional neural networks (CNN) for time series forecasting is that CNNs should be able to learn filters that represent certain repeating patterns in the time series, similarly as with images,  and use these to forecast the future values. With timeseries we use one dimensional convolution. Training a model on multivariate input data allows the network to exploit the correlation structure between these multiple time series and learning long-term temporal dependencies in between series . The advantage of the CNN over the recurrent-type network is that due to the convolutional structure of the network, the number of trainable weights is small, resulting in a much more efficient training and predicting *(Borovykh et al., 2018)*.\n",
        "\n",
        "In a dilated convolution the filter is applied to every \"dilation rate\"th element in the input vector, allowing the model to efficiently learn connections between far-apart data points. Using the dilated convolutions instead of regular ones allows the output to be influenced by more nodes in the input i.e. expand the receptive field of the model.  The receptive field of the model is the number of neurons (time steps) in the input that can modify the output in the final layer, i.e. the forecasted time series. The receptive field depends on the number of layers L and the filter size k. In this model architecture the dilations are increasing in every layer by a factor of two: 1, 2, 4, 8, etc. The filter size (same as kernel size) is chosen to be 2 and number of layers is 6, so the receptive field of the model is 64 hours in this experiment. Figure 3 represents illustration of dilated layers."
      ]
    },
    {
      "cell_type": "markdown",
      "metadata": {
        "id": "ez3Y-7xrwwLH",
        "colab_type": "text"
      },
      "source": [
        "<img src=\"dilate.png\" width=1000 height=600 />"
      ]
    },
    {
      "cell_type": "markdown",
      "metadata": {
        "id": "H57NdVdIwwLI",
        "colab_type": "text"
      },
      "source": [
        "Figure 3. Illustration of dilation layers (from https://github.com/JEddy92/TimeSeries_Seq2Seq/blob/master/notebooks/TS_Seq2Seq_Conv_Full.ipynb)."
      ]
    },
    {
      "cell_type": "markdown",
      "metadata": {
        "id": "ZU23NCVrwwLJ",
        "colab_type": "text"
      },
      "source": [
        "The word causal indicates that the convolution output should not depend on future inputs. In time series this is equivalent to padding the input (in the left) with a vector of zeros of the size of the receptive field. Conditioning with multiple input time series is done with separate convolutions with LeakyRELU activation function and skip connections for each input series and then concatenated together to form output from the first layer. In the first layer dilation rate is 1. The skip connections are parametrized by 1×1 convolutions, i.e. kernel size is 1, and number of output channels (filters) of 1. If some condition does not improve the forecast, the model can simply learn to discard this condition by setting the weights in the parametrized skip connection to zero. In the first layer each input time series skip connections and convolution outputs are concatenated together and then they are passed to 1×1 convolution to form the output of first layer. Subsequent layers have convolution with increasing dilation rate and LeakyRELU activation function and residual connection from input to output of the layer. Residual connection is added to the convolution output to form the final output of the layer. After the last layer there is final 1×1 convolution which outputs the forecasted time series. Only last 12 hours are taken from the final output.\n",
        "\n",
        "Figure 4 illustrates the model architecture of Borovykh et al., 2018. In this adopted version separate skip connections and convolution outputs from the input time series are concatenated not summed. Both methods are commonly used in adding residual/skip connections to the convolution output, summing and concatenating. The concatenation was used in the hope that the information from conditioning input time series would propagate better in the network. In the model there is also an extra 1×1 convolution in the first layer before the output to decrease the number of filters after concatenation operation. Different activation functions, namely ReLU and SELU, was tried. The architecture presented here is with LeakyRELU activations. LeakyRELU was chosen in first place because it can handle also negative values and the He -initialization should work with LeakyRELU. There wasn´t clear difference in performance with these different activation functions. Number of filters were chosen to be 1 as in the original augmented wavenet paper."
      ]
    },
    {
      "cell_type": "markdown",
      "metadata": {
        "id": "pGylTERfwwLK",
        "colab_type": "text"
      },
      "source": [
        "<img src=\"Augmented_wavenet.png\" width=1000 height=600 />"
      ]
    },
    {
      "cell_type": "markdown",
      "metadata": {
        "id": "WQzPH_AdwwLK",
        "colab_type": "text"
      },
      "source": [
        "Figure 4. Model architecture of augmented Wavenet by Borovykh et al., 2018 (figure taken from the article)."
      ]
    },
    {
      "cell_type": "markdown",
      "metadata": {
        "id": "A8mEhp3bwwLL",
        "colab_type": "text"
      },
      "source": [
        "The model blocks used in this project are described below."
      ]
    },
    {
      "cell_type": "code",
      "metadata": {
        "colab_type": "code",
        "id": "UBMaADy6GQkr",
        "colab": {}
      },
      "source": [
        "class ConvBlock(nn.Module):\n",
        "    def __init__(self, hidden_size, kernel_size, dilation_rate, bias=True):\n",
        "        super(ConvBlock, self).__init__()\n",
        "        self.hidden_size = hidden_size,\n",
        "        self.kernel_size = kernel_size,\n",
        "        self.dilation_rate = dilation_rate\n",
        "          \n",
        "        self.conv = nn.Conv1d(hidden_size, hidden_size, kernel_size=kernel_size, dilation=dilation_rate)\n",
        "        self.relu = nn.LeakyReLU()\n",
        "\n",
        "\n",
        "    def forward(self, inputs):\n",
        "        residual = inputs\n",
        "        pads = (self.kernel_size[0] - 1) * self.dilation_rate\n",
        "        inputs_padded = F.pad(inputs, (pads, 0))\n",
        "        \n",
        "        layer_out = self.relu(self.conv(inputs_padded))\n",
        "        network_out = torch.add(residual, layer_out)\n",
        "        return network_out\n"
      ],
      "execution_count": 249,
      "outputs": []
    },
    {
      "cell_type": "code",
      "metadata": {
        "colab_type": "code",
        "id": "thbEVUfOGTAh",
        "colab": {}
      },
      "source": [
        "class DilatedConvNet(nn.Module):\n",
        "    def __init__(self, n_layers, num_inputs, hidden_size, kernel_size, dilation_rate=1, bias=True):\n",
        "        super(DilatedConvNet, self).__init__()\n",
        "        self.n_layers = n_layers,\n",
        "        self.hidden_size = hidden_size,\n",
        "        self.kernel_size = kernel_size,\n",
        "        self.dilation_rate = dilation_rate,\n",
        "        self.num_inputs = num_inputs\n",
        "        \n",
        "        # first layer\n",
        "        self.conv1 = nn.Conv1d(1, hidden_size, kernel_size=2, dilation=dilation_rate)\n",
        "        self.relu1 = nn.LeakyReLU()\n",
        "        self.skip_first = nn.Conv1d(1, hidden_size, kernel_size=1, dilation=dilation_rate)\n",
        "        # decrease the number of filters after concat to hidden size\n",
        "        self.conv2 = nn.Conv1d(hidden_size*2*num_inputs, hidden_size, kernel_size=1, dilation=dilation_rate)\n",
        "        \n",
        "        # other layers\n",
        "        other_layers = [ConvBlock(hidden_size=hidden_size, kernel_size=kernel_size, dilation_rate=2 ** i) for i in range(1, n_layers)]\n",
        "        self.group = nn.Sequential(*other_layers)\n",
        "        \n",
        "        # last layer with 1x1 convolution\n",
        "        self.dense = nn.Conv1d(hidden_size, 1, kernel_size=1, dilation=dilation_rate)\n",
        "        \n",
        "        # initialize weights with He -initialization\n",
        "        for m in self.modules():\n",
        "            if isinstance(m, nn.Conv1d):\n",
        "                nn.init.kaiming_normal_(m.weight)\n",
        "                \n",
        "\n",
        "    def forward(self, inputs):\n",
        "        # padding the input with a vector of zeros of the size of the receptive field\n",
        "        pads = (self.kernel_size[0] - 1) * self.dilation_rate\n",
        "        inputs_padded = F.pad(inputs, (pads[0], 0))\n",
        "\n",
        "        # first layer\n",
        "        input_layer = []\n",
        "        for i in range(self.num_inputs):\n",
        "            layer_out = self.relu1(self.conv1(inputs_padded[:,i,:].view(inputs_padded.shape[0],1,-1)))\n",
        "            skip_out = self.skip_first(inputs[:,i,:].view(inputs.shape[0],1,-1))\n",
        "            #out = torch.add(skip_out, layer_out)\n",
        "            out = torch.cat((skip_out, layer_out), dim=1) # Which is better adding or concatenating?\n",
        "            input_layer.append(out)\n",
        "        out = torch.cat(input_layer, dim=1)#.sum(dim=1, keepdim=True)\n",
        "        #out = torch.add(input_layer, dim=1)\n",
        "        out = self.conv2(out)\n",
        "        \n",
        "        # other layers\n",
        "        out = self.group(out.view(out.shape[0],out.shape[1],-1))\n",
        "        \n",
        "        # last layer\n",
        "        network_out = self.dense(out)\n",
        "        outputs = network_out[:,:,-output_steps:] # output only last n_out hours\n",
        "        #print(f'shape of output tensor after last layer {outputs.shape}')\n",
        "        return outputs"
      ],
      "execution_count": 250,
      "outputs": []
    },
    {
      "cell_type": "code",
      "metadata": {
        "colab_type": "code",
        "id": "JXYQaTYW_NTi",
        "colab": {}
      },
      "source": [
        "# model parameters for DilatedConv\n",
        "n_layers = 6\n",
        "hidden_size = 5\n",
        "kernel_size = 2\n",
        "num_inputs = 4 # number of input features\n",
        "model = DilatedConvNet(n_layers=n_layers, num_inputs=num_inputs, hidden_size=hidden_size, kernel_size=kernel_size)\n",
        "model.to(device)\n",
        "\n",
        "# using mean absolute error as a criterion\n",
        "criterion = nn.L1Loss()\n",
        "# using Adam optimizer and L2 regularization\n",
        "optimizer = optim.Adam(model.parameters(), lr=0.0003, weight_decay=0.001)\n",
        "# learning rate scheduler\n",
        "scheduler = optim.lr_scheduler.ReduceLROnPlateau(optimizer, 'min')"
      ],
      "execution_count": 286,
      "outputs": []
    },
    {
      "cell_type": "markdown",
      "metadata": {
        "id": "imGRMb8giPRj",
        "colab_type": "text"
      },
      "source": [
        "For model comparison let's make a simple two-layer ConvNet without dilation and skip connections."
      ]
    },
    {
      "cell_type": "code",
      "metadata": {
        "id": "qkjTfzG8Aepp",
        "colab_type": "code",
        "colab": {}
      },
      "source": [
        "class SimpleConv(nn.Module):\n",
        "    def __init__(self, hidden_size, kernel_size, num_inputs, output_steps, bias=True):\n",
        "        super(SimpleConv, self).__init__()\n",
        "        self.hidden_size = hidden_size,\n",
        "        self.kernel_size = kernel_size\n",
        "        self.num_inputs = num_inputs\n",
        "        self.output_steps = output_steps\n",
        "          \n",
        "        self.conv1 = nn.Conv1d(1, hidden_size*num_inputs, kernel_size=kernel_size)\n",
        "        self.relu = nn.LeakyReLU()\n",
        "        self.dense = nn.Linear(hidden_size*62, output_steps)\n",
        "\n",
        "        for m in self.modules():\n",
        "            if isinstance(m, nn.Conv1d):\n",
        "                nn.init.kaiming_normal_(m.weight)\n",
        "\n",
        "    def forward(self, inputs):\n",
        "        inputs = inputs[:,num_inputs,:].view(inputs.shape[0],num_inputs,-1)\n",
        "        out = self.relu(self.conv1(inputs))\n",
        "        out = out.view(out.size(0), -1)\n",
        "        out = self.dense(out)\n",
        "        out = out.view(out.size(0), 1, -1)\n",
        "        return out\n"
      ],
      "execution_count": 242,
      "outputs": []
    },
    {
      "cell_type": "code",
      "metadata": {
        "id": "VWQLIWJ5CwoX",
        "colab_type": "code",
        "colab": {}
      },
      "source": [
        "# model parameters for SimpleConv\n",
        "hidden_size = 3\n",
        "kernel_size = 3\n",
        "num_inputs = 1\n",
        "output_steps = 12\n",
        "model_simple = SimpleConv(hidden_size=hidden_size, kernel_size=kernel_size, num_inputs = num_inputs, output_steps=output_steps)\n",
        "model_simple.to(device)\n",
        "\n",
        "# using mean absolute error as a criterion\n",
        "criterion = nn.L1Loss()\n",
        "# using Adam optimizer and L2 regularization\n",
        "optimizer = optim.Adam(model_simple.parameters(), lr=0.001, weight_decay=0.001)\n",
        "# learning rate scheduler\n",
        "scheduler = optim.lr_scheduler.ReduceLROnPlateau(optimizer, 'min')"
      ],
      "execution_count": 283,
      "outputs": []
    },
    {
      "cell_type": "markdown",
      "metadata": {
        "id": "F-oyZsTcwwLV",
        "colab_type": "text"
      },
      "source": [
        "Convolutional layer weights are initialized with zero-mean Gaussian distribution and standard deviation of sqrt(2/z), where z is the total number of trainable parameters in the layer. Objective function is mean absolute error and Adam gradient descent was used with learning rate 0.001. L2 regularization, i.e. weight decay, was used to avoid overfitting with regularization rate 0.001. These parameters was chosen to be same asi in (Borovykh et al., 2018). Hyperparameter search was not done.\n",
        "\n",
        "In the chosen model architecture the output is a vector of 12 values, i.e. the model predicts directly concentrations for the next 12 hours. The model is static, it is trained only one time. Other option could have been to implement architecture which have 12 separate models, each predicting value for certain hour. Or model wich will output only next hour, then updated with new input data, and this woul be looped over 12 iterations."
      ]
    },
    {
      "cell_type": "markdown",
      "metadata": {
        "colab_type": "text",
        "id": "QxYLfn8xQxM8"
      },
      "source": [
        "## Data preparation\n",
        "\n",
        "There are some missing values in the data,  1% of PM10 concentration observations and less than  1% of weather observations are missing. Missing time stamps are filled using linear interpolation. The amount of missing data is small and because the causal nature of input data, the missing time stamps are decided to fill, not delete. Input data consist of 20 400 hours which is divided to training (18 000 hours) and test (2 400 hours) sets. Training data is separated to equal length sequences of training input (512 hours) and training target (48 hours) data in overlapping moving window format. Target data is non-overlapping between sequences. When the training data is splitted using overlapping moving window method there will be  35 separate sequences, i.e. samples. These are further divided to training (30 samples) and validation (5 samples ) sets. "
      ]
    },
    {
      "cell_type": "code",
      "metadata": {
        "colab_type": "code",
        "id": "K0cVS44OJENx",
        "colab": {
          "base_uri": "https://localhost:8080/",
          "height": 151
        },
        "outputId": "289f5ffa-a941-4036-b3e4-2c40a1770b9a"
      },
      "source": [
        "# check missing values\n",
        "print(\"Missing values:\\n\")\n",
        "print(df.isnull().sum(), \"\\n\")\n"
      ],
      "execution_count": 25,
      "outputs": [
        {
          "output_type": "stream",
          "text": [
            "Missing values:\n",
            "\n",
            "PM10 concentration (ug/m3)    258\n",
            "Amount of rain (mm/h)          15\n",
            "Temperature (degC)              3\n",
            "Wind speed (m/s)              188\n",
            "dtype: int64 \n",
            "\n"
          ],
          "name": "stdout"
        }
      ]
    },
    {
      "cell_type": "code",
      "metadata": {
        "colab_type": "code",
        "id": "DD2B6A7CYlig",
        "colab": {
          "base_uri": "https://localhost:8080/",
          "height": 202
        },
        "outputId": "27bd6002-4e33-4f75-ca10-c93c71f765dc"
      },
      "source": [
        "# use linear interpolation for filling the missing values\n",
        "df_fill = df.interpolate()\n",
        "print(df_fill.isnull().sum(), \"\\n\")\n",
        "# check data types\n",
        "df_fill.dtypes"
      ],
      "execution_count": 26,
      "outputs": [
        {
          "output_type": "stream",
          "text": [
            "PM10 concentration (ug/m3)    0\n",
            "Amount of rain (mm/h)         0\n",
            "Temperature (degC)            0\n",
            "Wind speed (m/s)              0\n",
            "dtype: int64 \n",
            "\n"
          ],
          "name": "stdout"
        },
        {
          "output_type": "execute_result",
          "data": {
            "text/plain": [
              "PM10 concentration (ug/m3)    float64\n",
              "Amount of rain (mm/h)         float64\n",
              "Temperature (degC)            float64\n",
              "Wind speed (m/s)              float64\n",
              "dtype: object"
            ]
          },
          "metadata": {
            "tags": []
          },
          "execution_count": 26
        }
      ]
    },
    {
      "cell_type": "code",
      "metadata": {
        "id": "FCkFPv3aM_Up",
        "colab_type": "code",
        "colab": {
          "base_uri": "https://localhost:8080/",
          "height": 134
        },
        "outputId": "132d4e44-9988-43b4-e7e8-39b7a2519f7f"
      },
      "source": [
        "# split input data to train and test batches\n",
        "print(df_fill.columns)\n",
        "n = len(df_fill)\n",
        "train = df_fill[0:int(n*0.9)].to_numpy()\n",
        "test = df_fill[int(n*0.9):].to_numpy()\n",
        "# check the shapes of train and test sets\n",
        "# and check that last value of train data and first value of test data are different\n",
        "print(train.shape)\n",
        "print(test.shape)\n",
        "print(train[-1,:])\n",
        "print(test[0,:])"
      ],
      "execution_count": 27,
      "outputs": [
        {
          "output_type": "stream",
          "text": [
            "Index(['PM10 concentration (ug/m3)', 'Amount of rain (mm/h)',\n",
            "       'Temperature (degC)', 'Wind speed (m/s)'],\n",
            "      dtype='object')\n",
            "(18360, 4)\n",
            "(2040, 4)\n",
            "[ 5.5  0.  -3.2  2.7]\n",
            "[ 4.9  0.  -1.5  4.2]\n"
          ],
          "name": "stdout"
        }
      ]
    },
    {
      "cell_type": "markdown",
      "metadata": {
        "id": "U1g6nDGrwwL6",
        "colab_type": "text"
      },
      "source": [
        "Because the scales are different in input data, it is standardized by removing the mean and scaling to unit variance. There are lot's of zeros in one of the input time series (amount of rain), so also for this reason the scaling is needed. The scaling is done separately for each split, so that the information from training targets doesn't leak to training inputs. When the trained model is used for prediction the scaling have to be done also for the input data, and of course re-scaling before inputting the predicted values."
      ]
    },
    {
      "cell_type": "code",
      "metadata": {
        "colab_type": "code",
        "id": "f0cEn-2CGoYh",
        "colab": {}
      },
      "source": [
        "# convert training data into batches of equal length sequences of train_inputs and train_targets\n",
        "# option for scaling the data is included\n",
        "# modified function, original from https://machinelearningmastery.com/how-to-develop-convolutional-neural-networks-for-multi-step-time-series-forecasting/\n",
        "def split_equal_sequences(data, n_input, n_out, scaling=False):\n",
        "    X, y = list(), list()\n",
        "    in_start = 0\n",
        "    # step over the training data one time step at a time\n",
        "    for _ in range(len(data)):\n",
        "        # define the end of the input sequence\n",
        "        in_end = in_start + n_input\n",
        "        out_end = in_end + n_out\n",
        "        # ensure we have enough data for this instance\n",
        "        if out_end < len(data):\n",
        "            x_input = data[in_start:in_end, :]\n",
        "            y_input = data[in_end:out_end, 0].reshape(n_out,1)\n",
        "        # standardize data by removing the mean and scaling to unit variance\n",
        "            if scaling:\n",
        "              scaler = StandardScaler().fit(x_input)\n",
        "              scaler2 = StandardScaler().fit(x_input[:,0].reshape(-1,1))\n",
        "              x_input = scaler.transform(x_input)\n",
        "              y_input = scaler2.transform(y_input.reshape(-1,1))\n",
        "      \n",
        "            X.append(x_input)\n",
        "            y.append(y_input)\n",
        "\t\t    # shift window to n_out steps forward\n",
        "        in_start += n_out\n",
        "        #in_start += 1 #try with overlapping moving window\n",
        "    return np.array(X), np.array(y)"
      ],
      "execution_count": 28,
      "outputs": []
    },
    {
      "cell_type": "code",
      "metadata": {
        "colab_type": "code",
        "id": "NHgF2N3TwzvM",
        "colab": {}
      },
      "source": [
        "# Length of input data (hours of history data) and lenght of prediction period\n",
        "input_steps = 64\n",
        "output_steps = 12"
      ],
      "execution_count": 29,
      "outputs": []
    },
    {
      "cell_type": "code",
      "metadata": {
        "colab_type": "code",
        "id": "JMruxzCVZD_G",
        "colab": {
          "base_uri": "https://localhost:8080/",
          "height": 235
        },
        "outputId": "a1bf4c5a-ee74-4fd8-a81a-e7b41ae0eb63"
      },
      "source": [
        "# split training data to input and target sequences. \n",
        "train_inputs, train_targets = split_equal_sequences(train, input_steps, output_steps, scaling=True)\n",
        "print(train_targets.shape)\n",
        "print(train_inputs.shape)\n",
        "print(train_inputs[0,:,0])\n"
      ],
      "execution_count": 30,
      "outputs": [
        {
          "output_type": "stream",
          "text": [
            "(1524, 12, 1)\n",
            "(1524, 64, 4)\n",
            "[ 1.18887573  0.2259088   0.00736311 -0.06093242 -0.18386436 -0.19069392\n",
            " -0.08825063 -0.265819   -0.10190973 -0.07459152 -0.1360575  -0.19752347\n",
            " -0.27264855 -0.05410286 -0.10873928 -0.19069392 -0.18386436 -0.25215989\n",
            " -0.44338737 -0.58680797 -0.55266021 -0.5390011  -0.38875095 -0.57314887\n",
            " -0.44338737 -0.58680797 -0.60729663 -0.66193305 -0.45704647  0.66982972\n",
            "  1.35961455  1.42108052  2.60259314  2.3772179   3.72263978  4.80853866\n",
            "  0.4717727  -0.11556884 -0.21118257 -0.19752347 -0.49802379 -0.58680797\n",
            " -0.47753513 -0.49802379 -0.43655781 -0.43655781 -0.51851245 -0.50485334\n",
            " -0.62095574 -0.69608082 -0.59363753 -0.62778529 -0.47070558 -0.53217155\n",
            " -0.33411452 -0.34094408 -0.35460318 -0.10873928 -0.34094408 -0.25215989\n",
            " -0.30679631 -0.16337571 -0.31362587 -0.11556884]\n"
          ],
          "name": "stdout"
        }
      ]
    },
    {
      "cell_type": "code",
      "metadata": {
        "id": "T2rnPamWLNcQ",
        "colab_type": "code",
        "colab": {
          "base_uri": "https://localhost:8080/",
          "height": 202
        },
        "outputId": "ea2596e3-97ab-43dd-a60e-fa43338aabe7"
      },
      "source": [
        "# reshape data to input format for convolution layer [batch, channels, steps] and tranform to tensors.\n",
        "train_inputs_reshape = np.transpose(train_inputs, (0,2,1))\n",
        "train_targets_reshape = np.transpose(train_targets, (0,2,1))\n",
        "x = torch.tensor(train_inputs_reshape, device=device, dtype=torch.float)\n",
        "y = torch.tensor(train_targets_reshape, device=device, dtype=torch.float)\n",
        "print(x.size())\n",
        "print(y.size())\n",
        "print(x[0,0,:])\n",
        "# combine tensors to dataset\n",
        "dataset = torch.utils.data.TensorDataset(x, y)"
      ],
      "execution_count": 31,
      "outputs": [
        {
          "output_type": "stream",
          "text": [
            "torch.Size([1524, 4, 64])\n",
            "torch.Size([1524, 1, 12])\n",
            "tensor([ 1.1889,  0.2259,  0.0074, -0.0609, -0.1839, -0.1907, -0.0883, -0.2658,\n",
            "        -0.1019, -0.0746, -0.1361, -0.1975, -0.2726, -0.0541, -0.1087, -0.1907,\n",
            "        -0.1839, -0.2522, -0.4434, -0.5868, -0.5527, -0.5390, -0.3888, -0.5731,\n",
            "        -0.4434, -0.5868, -0.6073, -0.6619, -0.4570,  0.6698,  1.3596,  1.4211,\n",
            "         2.6026,  2.3772,  3.7226,  4.8085,  0.4718, -0.1156, -0.2112, -0.1975,\n",
            "        -0.4980, -0.5868, -0.4775, -0.4980, -0.4366, -0.4366, -0.5185, -0.5049,\n",
            "        -0.6210, -0.6961, -0.5936, -0.6278, -0.4707, -0.5322, -0.3341, -0.3409,\n",
            "        -0.3546, -0.1087, -0.3409, -0.2522, -0.3068, -0.1634, -0.3136, -0.1156],\n",
            "       device='cuda:0')\n"
          ],
          "name": "stdout"
        }
      ]
    },
    {
      "cell_type": "code",
      "metadata": {
        "colab_type": "code",
        "id": "iLwxPI7REb1n",
        "colab": {
          "base_uri": "https://localhost:8080/",
          "height": 50
        },
        "outputId": "798ec566-ae63-4d4f-a401-ace438c030c5"
      },
      "source": [
        "# divide the training dataset further to training and validation datasets.\n",
        "# Train the model first with few samples to check the model ability to overfit\n",
        "idx = list(range(len(dataset)))\n",
        "train_idx = idx[:2]\n",
        "val_idx = idx[2:4]\n",
        "dataset_train = torch.utils.data.Subset(dataset, train_idx)\n",
        "dataset_valid = torch.utils.data.Subset(dataset, val_idx)\n",
        "print(len(dataset_train))\n",
        "print(len(dataset_valid))\n",
        "\n",
        "# load training and validation datasets to torch Dataloader format\n",
        "trainloader = torch.utils.data.DataLoader(dataset_train, batch_size=1, shuffle=True, pin_memory=False)\n",
        "validloader = torch.utils.data.DataLoader(dataset_valid, batch_size=1, shuffle=True, pin_memory=False)"
      ],
      "execution_count": 245,
      "outputs": [
        {
          "output_type": "stream",
          "text": [
            "2\n",
            "2\n"
          ],
          "name": "stdout"
        }
      ]
    },
    {
      "cell_type": "code",
      "metadata": {
        "id": "eS8nnq34kyG7",
        "colab_type": "code",
        "colab": {
          "base_uri": "https://localhost:8080/",
          "height": 50
        },
        "outputId": "2c60bbdd-404e-4a70-a238-4c3af5637d3d"
      },
      "source": [
        "# For whole training data\n",
        "idx = list(range(len(dataset)))\n",
        "train_idx = idx[:1200]\n",
        "val_idx = idx[1200:]\n",
        "dataset_train = torch.utils.data.Subset(dataset, train_idx)\n",
        "dataset_valid = torch.utils.data.Subset(dataset, val_idx)\n",
        "print(len(dataset_train))\n",
        "print(len(dataset_valid))"
      ],
      "execution_count": 252,
      "outputs": [
        {
          "output_type": "stream",
          "text": [
            "1200\n",
            "324\n"
          ],
          "name": "stdout"
        }
      ]
    },
    {
      "cell_type": "markdown",
      "metadata": {
        "colab_type": "text",
        "id": "BLZcxE_7KThn"
      },
      "source": [
        "## Experiments and results\n",
        "\n",
        "Model is run in Google Colab with GPUs. Different setups were tested with different numbers of layers, kernel size, hidden size and input time steps. Adding a dropout layer at the end of each convolutional layer was also tested. None of these different versions was remarkably better than other."
      ]
    },
    {
      "cell_type": "code",
      "metadata": {
        "colab_type": "code",
        "id": "6jWPe7mLjQ1V",
        "colab": {}
      },
      "source": [
        "# load training and validation datasets to torch Dataloader format\n",
        "trainloader = torch.utils.data.DataLoader(dataset_train, batch_size=20, shuffle=True, pin_memory=False)\n",
        "validloader = torch.utils.data.DataLoader(dataset_valid, batch_size=324, shuffle=True, pin_memory=False)"
      ],
      "execution_count": 264,
      "outputs": []
    },
    {
      "cell_type": "code",
      "metadata": {
        "id": "MHkDRMGIy8mF",
        "colab_type": "code",
        "colab": {
          "base_uri": "https://localhost:8080/",
          "height": 50
        },
        "outputId": "712b3130-4eb3-4ac2-90d1-607816445554"
      },
      "source": [
        "# Feed a batch of data from the training data to test the network\n",
        "with torch.no_grad():\n",
        "    dataiter = iter(trainloader)\n",
        "    values, labels = dataiter.next()\n",
        "    values = values.to(device)\n",
        "    labels = labels.to(device)\n",
        "    print('Shape of the input tensor:', values.shape)\n",
        "\n",
        "    #y = model_simple(values)\n",
        "    y = model(values)\n",
        "    print(y.shape)"
      ],
      "execution_count": 265,
      "outputs": [
        {
          "output_type": "stream",
          "text": [
            "Shape of the input tensor: torch.Size([20, 4, 64])\n",
            "torch.Size([20, 1, 12])\n"
          ],
          "name": "stdout"
        }
      ]
    },
    {
      "cell_type": "code",
      "metadata": {
        "id": "CyaHZrAV0TQG",
        "colab_type": "code",
        "colab": {
          "base_uri": "https://localhost:8080/",
          "height": 504
        },
        "outputId": "c0113b37-bdd6-49bf-83ec-f9752fb643c2"
      },
      "source": [
        "#model_simple.to(device)\n",
        "model.to(device)"
      ],
      "execution_count": 287,
      "outputs": [
        {
          "output_type": "execute_result",
          "data": {
            "text/plain": [
              "DilatedConvNet(\n",
              "  (conv1): Conv1d(1, 5, kernel_size=(2,), stride=(1,))\n",
              "  (relu1): LeakyReLU(negative_slope=0.01)\n",
              "  (skip_first): Conv1d(1, 5, kernel_size=(1,), stride=(1,))\n",
              "  (conv2): Conv1d(40, 5, kernel_size=(1,), stride=(1,))\n",
              "  (group): Sequential(\n",
              "    (0): ConvBlock(\n",
              "      (conv): Conv1d(5, 5, kernel_size=(2,), stride=(1,), dilation=(2,))\n",
              "      (relu): LeakyReLU(negative_slope=0.01)\n",
              "    )\n",
              "    (1): ConvBlock(\n",
              "      (conv): Conv1d(5, 5, kernel_size=(2,), stride=(1,), dilation=(4,))\n",
              "      (relu): LeakyReLU(negative_slope=0.01)\n",
              "    )\n",
              "    (2): ConvBlock(\n",
              "      (conv): Conv1d(5, 5, kernel_size=(2,), stride=(1,), dilation=(8,))\n",
              "      (relu): LeakyReLU(negative_slope=0.01)\n",
              "    )\n",
              "    (3): ConvBlock(\n",
              "      (conv): Conv1d(5, 5, kernel_size=(2,), stride=(1,), dilation=(16,))\n",
              "      (relu): LeakyReLU(negative_slope=0.01)\n",
              "    )\n",
              "    (4): ConvBlock(\n",
              "      (conv): Conv1d(5, 5, kernel_size=(2,), stride=(1,), dilation=(32,))\n",
              "      (relu): LeakyReLU(negative_slope=0.01)\n",
              "    )\n",
              "  )\n",
              "  (dense): Conv1d(5, 1, kernel_size=(1,), stride=(1,))\n",
              ")"
            ]
          },
          "metadata": {
            "tags": []
          },
          "execution_count": 287
        }
      ]
    },
    {
      "cell_type": "code",
      "metadata": {
        "id": "RpCkdBmVvEM8",
        "colab_type": "code",
        "colab": {}
      },
      "source": [
        "# function for visualizing gradient flow, from Pytorch discussion forum\n",
        "def plot_grad_flow(named_parameters):\n",
        "    '''Plots the gradients flowing through different layers in the net during training.\n",
        "    Can be used for checking for possible gradient vanishing / exploding problems.\n",
        "    \n",
        "    Usage: Plug this function in Trainer class after loss.backwards() as \n",
        "    \"plot_grad_flow(self.model.named_parameters())\" to visualize the gradient flow'''\n",
        "    ave_grads = []\n",
        "    max_grads= []\n",
        "    layers = []\n",
        "    for n, p in named_parameters:\n",
        "        if(p.requires_grad) and (\"bias\" not in n):\n",
        "            layers.append(n)\n",
        "            ave_grads.append(p.grad.abs().mean())\n",
        "            max_grads.append(p.grad.abs().max())\n",
        "    plt.bar(np.arange(len(max_grads)), max_grads, alpha=0.1, lw=1, color=\"c\")\n",
        "    plt.bar(np.arange(len(max_grads)), ave_grads, alpha=0.1, lw=1, color=\"b\")\n",
        "    plt.hlines(0, 0, len(ave_grads)+1, lw=2, color=\"k\" )\n",
        "    plt.xticks(range(0,len(ave_grads), 1), layers, rotation=\"vertical\")\n",
        "    plt.xlim(left=0, right=len(ave_grads))\n",
        "    plt.ylim(bottom = -0.001)\n",
        "    plt.xlabel(\"Layers\")\n",
        "    plt.ylabel(\"average gradient\")\n",
        "    plt.title(\"Gradient flow\")\n",
        "    plt.grid(True)\n",
        "    plt.legend([Line2D([0], [0], color=\"c\", lw=4),\n",
        "                Line2D([0], [0], color=\"b\", lw=4),\n",
        "                Line2D([0], [0], color=\"k\", lw=4)], ['max-gradient', 'mean-gradient', 'zero-gradient'])"
      ],
      "execution_count": 221,
      "outputs": []
    },
    {
      "cell_type": "code",
      "metadata": {
        "colab_type": "code",
        "id": "hDWMkN_d9A__",
        "colab": {}
      },
      "source": [
        "# train model and monitor training and validation error\n",
        "# function modified from Pytorch tutorial: https://pytorch.org/tutorials/beginner/finetuning_torchvision_models_tutorial.html#model-training-and-validation-code\n",
        "def train_model(model, dataloaders, criterion, optimizer, num_epochs):\n",
        "    since = time.time()\n",
        "    val_loss_history = []\n",
        "    train_loss_history = []\n",
        "\n",
        "    for epoch in range(num_epochs):\n",
        "        # Each epoch has a training and validation phase\n",
        "        for phase in ['train', 'val']:\n",
        "            if phase == 'train':\n",
        "                model.train()  # Set model to training mode\n",
        "            else:\n",
        "                model.eval()   # Set model to evaluate mode\n",
        "\n",
        "            running_loss = 0.0\n",
        "\n",
        "            # Iterate over data\n",
        "            for inputs, targets in dataloaders[phase]:\n",
        "                inputs = inputs.to(device)\n",
        "                targets = targets.to(device)\n",
        "                optimizer.zero_grad()\n",
        "                # forward\n",
        "                # track history if only in train\n",
        "                with torch.set_grad_enabled(phase == 'train'):\n",
        "                    outputs = model(inputs)\n",
        "                    loss = criterion(outputs, targets)\n",
        "                    # backward + optimize only if in training phase\n",
        "                    if phase == 'train':\n",
        "                        loss.backward()\n",
        "                        torch.nn.utils.clip_grad_norm_(model.parameters(), 0.5) #try gradient clipping\n",
        "                        plot_grad_flow(model.named_parameters()) # plot gradient flow\n",
        "                        optimizer.step()\n",
        "                    # statistics\n",
        "                    running_loss += loss.item() * inputs.size(0)\n",
        "\n",
        "            epoch_loss = running_loss / len(dataloaders[phase].dataset)\n",
        "            \n",
        "            if (epoch % 10) == 0:\n",
        "                print('Epoch {}/{} {} loss: {:.4f}'.format(epoch, num_epochs - 1, phase, epoch_loss))\n",
        "                #print('{} Loss: {:.4f}'.format(phase, epoch_loss))\n",
        "\n",
        "            if phase == 'val':\n",
        "                val_loss_history.append(epoch_loss)\n",
        "            if phase == 'train':\n",
        "                train_loss_history.append(epoch_loss)\n",
        "            \n",
        "            scheduler.step(epoch_loss)\n",
        "\n",
        "    time_elapsed = time.time() - since\n",
        "    print('Training complete in {:.0f}m {:.0f}s'.format(time_elapsed // 60, time_elapsed % 60))\n",
        "    return model, train_loss_history, val_loss_history"
      ],
      "execution_count": 284,
      "outputs": []
    },
    {
      "cell_type": "code",
      "metadata": {
        "colab_type": "code",
        "id": "0oMaBzHFU1l7",
        "colab": {}
      },
      "source": [
        "# put training and validation sets to one dictionary for the use of training function\n",
        "dataloaders_dict = {'train' : trainloader, 'val': validloader}"
      ],
      "execution_count": 288,
      "outputs": []
    },
    {
      "cell_type": "code",
      "metadata": {
        "colab_type": "code",
        "id": "mtrOrE4xUEM3",
        "colab": {
          "base_uri": "https://localhost:8080/",
          "height": 1000
        },
        "outputId": "72c26ad7-d75b-44af-c7d0-9b26cb026bb6"
      },
      "source": [
        "# train model and gather training and validation losses to list\n",
        "model_trained, train_loss_history, val_loss_history = train_model(model, dataloaders_dict, criterion, optimizer, num_epochs=200)"
      ],
      "execution_count": 289,
      "outputs": [
        {
          "output_type": "stream",
          "text": [
            "Epoch 0/199 train loss: 5.2157\n",
            "Epoch 0/199 val loss: 3.8626\n",
            "Epoch 10/199 train loss: 1.0800\n",
            "Epoch 10/199 val loss: 1.0572\n",
            "Epoch 20/199 train loss: 1.0277\n",
            "Epoch 20/199 val loss: 1.0107\n",
            "Epoch 30/199 train loss: 1.0138\n",
            "Epoch 30/199 val loss: 0.9977\n",
            "Epoch 40/199 train loss: 1.0075\n",
            "Epoch 40/199 val loss: 0.9940\n",
            "Epoch 50/199 train loss: 1.0032\n",
            "Epoch 50/199 val loss: 0.9931\n",
            "Epoch 60/199 train loss: 1.0032\n",
            "Epoch 60/199 val loss: 0.9931\n",
            "Epoch 70/199 train loss: 1.0032\n",
            "Epoch 70/199 val loss: 0.9931\n",
            "Epoch 80/199 train loss: 1.0032\n",
            "Epoch 80/199 val loss: 0.9931\n",
            "Epoch 90/199 train loss: 1.0032\n",
            "Epoch 90/199 val loss: 0.9931\n",
            "Epoch 100/199 train loss: 1.0032\n",
            "Epoch 100/199 val loss: 0.9931\n",
            "Epoch 110/199 train loss: 1.0032\n",
            "Epoch 110/199 val loss: 0.9931\n",
            "Epoch 120/199 train loss: 1.0032\n",
            "Epoch 120/199 val loss: 0.9931\n",
            "Epoch 130/199 train loss: 1.0032\n",
            "Epoch 130/199 val loss: 0.9931\n",
            "Epoch 140/199 train loss: 1.0032\n",
            "Epoch 140/199 val loss: 0.9931\n",
            "Epoch 150/199 train loss: 1.0032\n",
            "Epoch 150/199 val loss: 0.9931\n",
            "Epoch 160/199 train loss: 1.0032\n",
            "Epoch 160/199 val loss: 0.9931\n",
            "Epoch 170/199 train loss: 1.0032\n",
            "Epoch 170/199 val loss: 0.9931\n",
            "Epoch 180/199 train loss: 1.0032\n",
            "Epoch 180/199 val loss: 0.9931\n",
            "Epoch 190/199 train loss: 1.0032\n",
            "Epoch 190/199 val loss: 0.9931\n",
            "Training complete in 9m 58s\n"
          ],
          "name": "stdout"
        },
        {
          "output_type": "stream",
          "text": [
            "/usr/local/lib/python3.6/dist-packages/google/colab/_event_manager.py:28: UserWarning: Creating legend with loc=\"best\" can be slow with large amounts of data.\n",
            "  func(*args, **kwargs)\n",
            "/usr/local/lib/python3.6/dist-packages/IPython/core/pylabtools.py:125: UserWarning: Creating legend with loc=\"best\" can be slow with large amounts of data.\n",
            "  fig.canvas.print_figure(bytes_io, **kw)\n"
          ],
          "name": "stderr"
        },
        {
          "output_type": "display_data",
          "data": {
            "image/png": "[encoded data removed]",
            "text/plain": [
              "<Figure size 432x288 with 1 Axes>"
            ]
          },
          "metadata": {
            "tags": [],
            "needs_background": "light"
          }
        }
      ]
    },
    {
      "cell_type": "code",
      "metadata": {
        "colab_type": "code",
        "id": "x3f5op20jMMx",
        "colab": {}
      },
      "source": [
        "# save model\n",
        "model_filename = 'cnn_model.pth'\n",
        "torch.save(model_trained.state_dict(), model_filename)"
      ],
      "execution_count": 290,
      "outputs": []
    },
    {
      "cell_type": "markdown",
      "metadata": {
        "id": "SGFpvyZewwMh",
        "colab_type": "text"
      },
      "source": [
        "Training and validation losses are shown in Figure 5. Model underfits slightly. We tried training also with more epochs (5 000 epochs), but the validation loss started to increase slowly. We decided to cut the training in 500 epochs. For the underfitting problem solution could be to increase the input data or change the model architecture."
      ]
    },
    {
      "cell_type": "code",
      "metadata": {
        "colab_type": "code",
        "id": "w2PAfaDNU0qv",
        "colab": {
          "base_uri": "https://localhost:8080/",
          "height": 404
        },
        "outputId": "a5b6f2c4-ce1a-4651-dc14-5e0e3459a05d"
      },
      "source": [
        "# plot training and validation error\n",
        "plt.figure(figsize=(10,6))\n",
        "plt.plot(np.arange(len(train_loss_history)), train_loss_history, label='train')\n",
        "plt.plot(np.arange(len(val_loss_history)), val_loss_history, label='val')\n",
        "plt.ylim([0,2])\n",
        "plt.xlabel('Epoch')\n",
        "plt.ylabel('Mean Absolute Error Loss')\n",
        "plt.title('Loss Over Time')\n",
        "plt.legend()\n",
        "plt.savefig('loss.png')"
      ],
      "execution_count": 291,
      "outputs": [
        {
          "output_type": "display_data",
          "data": {
            "image/png": "[encoded data removed]",
            "text/plain": [
              "<Figure size 720x432 with 1 Axes>"
            ]
          },
          "metadata": {
            "tags": [],
            "needs_background": "light"
          }
        }
      ]
    },
    {
      "cell_type": "markdown",
      "metadata": {
        "id": "JgLDDQsZwwMm",
        "colab_type": "text"
      },
      "source": [
        "Figure 5. Training and validation losses."
      ]
    },
    {
      "cell_type": "code",
      "metadata": {
        "colab_type": "code",
        "id": "XTYRAPq1whT2",
        "colab": {
          "base_uri": "https://localhost:8080/",
          "height": 34
        },
        "outputId": "ce9e360c-ab83-4895-f7b5-32fad85abaca"
      },
      "source": [
        "model_trained.load_state_dict(torch.load(model_filename, map_location=lambda storage, loc: storage))\n",
        "model_trained.to(torch.device(\"cpu\"))\n",
        "print('Model loaded from %s' % model_filename)"
      ],
      "execution_count": 292,
      "outputs": [
        {
          "output_type": "stream",
          "text": [
            "Model loaded from cnn_model.pth\n"
          ],
          "name": "stdout"
        }
      ]
    },
    {
      "cell_type": "code",
      "metadata": {
        "colab_type": "code",
        "id": "bYv5H7OaNAK0",
        "colab": {
          "base_uri": "https://localhost:8080/",
          "height": 1000
        },
        "outputId": "c1961816-73f9-4f22-9089-114b60570c0c"
      },
      "source": [
        "# print weights of second layers convolution\n",
        "print(model_trained.conv1.weight)\n",
        "print(model_trained.skip_first.weight)\n",
        "print(model_trained.conv2.weight)\n",
        "print(model_trained.dense.weight)"
      ],
      "execution_count": 293,
      "outputs": [
        {
          "output_type": "stream",
          "text": [
            "Parameter containing:\n",
            "tensor([[[-0.0869,  0.1034]],\n",
            "\n",
            "        [[ 0.6977,  0.7265]],\n",
            "\n",
            "        [[-0.0036,  1.2680]],\n",
            "\n",
            "        [[ 0.2158, -0.3754]],\n",
            "\n",
            "        [[ 0.2136, -1.1476]]], requires_grad=True)\n",
            "Parameter containing:\n",
            "tensor([[[ 0.4344]],\n",
            "\n",
            "        [[-1.3115]],\n",
            "\n",
            "        [[ 0.2668]],\n",
            "\n",
            "        [[ 1.4062]],\n",
            "\n",
            "        [[-1.8152]]], requires_grad=True)\n",
            "Parameter containing:\n",
            "tensor([[[ 5.2381e-02],\n",
            "         [ 2.5624e-01],\n",
            "         [-3.6404e-01],\n",
            "         [ 2.8746e-01],\n",
            "         [ 2.6482e-01],\n",
            "         [ 2.2831e-02],\n",
            "         [ 3.7601e-01],\n",
            "         [ 1.1458e-01],\n",
            "         [-1.8526e-01],\n",
            "         [-3.2753e-01],\n",
            "         [ 1.4154e-01],\n",
            "         [ 7.2961e-02],\n",
            "         [-1.6728e-01],\n",
            "         [ 1.2184e-01],\n",
            "         [-2.0035e-02],\n",
            "         [-1.8199e-02],\n",
            "         [-3.3006e-03],\n",
            "         [-1.6486e-01],\n",
            "         [ 6.2881e-02],\n",
            "         [-2.3721e-03],\n",
            "         [ 2.4084e-01],\n",
            "         [-1.7400e-02],\n",
            "         [-4.1741e-02],\n",
            "         [-9.9431e-02],\n",
            "         [ 1.4417e-02],\n",
            "         [ 6.6913e-03],\n",
            "         [ 2.0043e-01],\n",
            "         [-2.4726e-01],\n",
            "         [-2.7715e-01],\n",
            "         [-2.1615e-01],\n",
            "         [ 1.4550e-01],\n",
            "         [-5.1303e-02],\n",
            "         [ 5.4697e-01],\n",
            "         [ 1.0926e-01],\n",
            "         [ 3.2402e-01],\n",
            "         [-1.2771e-03],\n",
            "         [ 3.6095e-02],\n",
            "         [ 5.3833e-02],\n",
            "         [-2.2320e-01],\n",
            "         [-9.7910e-02]],\n",
            "\n",
            "        [[ 1.9343e-01],\n",
            "         [-2.6954e-01],\n",
            "         [-2.5810e-01],\n",
            "         [-1.5149e-01],\n",
            "         [ 7.7770e-02],\n",
            "         [-2.3628e-03],\n",
            "         [-1.4440e-01],\n",
            "         [-6.8274e-02],\n",
            "         [ 1.4868e-01],\n",
            "         [-2.0616e-01],\n",
            "         [ 7.0387e-02],\n",
            "         [-2.4678e-02],\n",
            "         [ 4.1312e-01],\n",
            "         [-8.1484e-02],\n",
            "         [ 9.1319e-02],\n",
            "         [ 1.6836e-01],\n",
            "         [-1.8860e-01],\n",
            "         [ 1.9042e-01],\n",
            "         [ 7.2023e-02],\n",
            "         [-1.0446e-01],\n",
            "         [-1.3450e-02],\n",
            "         [ 8.4271e-02],\n",
            "         [ 2.2521e-01],\n",
            "         [ 8.1909e-02],\n",
            "         [ 1.1896e-01],\n",
            "         [ 4.3435e-03],\n",
            "         [-2.6163e-01],\n",
            "         [ 4.8061e-02],\n",
            "         [ 1.5218e-01],\n",
            "         [ 1.4698e-01],\n",
            "         [ 3.3939e-02],\n",
            "         [ 1.6732e-01],\n",
            "         [-3.2282e-01],\n",
            "         [ 4.7787e-02],\n",
            "         [-1.5913e-01],\n",
            "         [ 3.8626e-03],\n",
            "         [-5.6502e-02],\n",
            "         [ 1.2925e-02],\n",
            "         [ 1.6209e-01],\n",
            "         [ 2.1260e-01]],\n",
            "\n",
            "        [[-1.4466e-01],\n",
            "         [ 2.4478e-01],\n",
            "         [ 2.8206e-02],\n",
            "         [ 1.4949e-01],\n",
            "         [-2.0989e-01],\n",
            "         [-1.3642e-02],\n",
            "         [ 9.9296e-02],\n",
            "         [-8.7481e-02],\n",
            "         [ 9.3223e-02],\n",
            "         [ 4.4797e-02],\n",
            "         [ 2.5342e-01],\n",
            "         [ 1.7947e-02],\n",
            "         [-4.0883e-01],\n",
            "         [ 2.2637e-01],\n",
            "         [ 1.4964e-01],\n",
            "         [ 2.5483e-02],\n",
            "         [-2.9498e-02],\n",
            "         [-1.3421e-02],\n",
            "         [ 1.6657e-01],\n",
            "         [ 8.6597e-02],\n",
            "         [ 2.4096e-01],\n",
            "         [ 1.4112e-01],\n",
            "         [ 1.2656e-01],\n",
            "         [-1.4254e-01],\n",
            "         [-2.3380e-01],\n",
            "         [ 4.9285e-04],\n",
            "         [ 9.8055e-02],\n",
            "         [-7.7028e-02],\n",
            "         [ 2.4206e-01],\n",
            "         [ 8.4735e-02],\n",
            "         [ 4.1778e-01],\n",
            "         [ 1.5611e-01],\n",
            "         [ 2.3378e-01],\n",
            "         [-1.3444e-01],\n",
            "         [-1.4414e-01],\n",
            "         [-6.4040e-04],\n",
            "         [-2.1455e-01],\n",
            "         [ 1.3295e-02],\n",
            "         [ 2.0948e-01],\n",
            "         [-2.1109e-03]],\n",
            "\n",
            "        [[ 4.0210e-01],\n",
            "         [ 3.5136e-01],\n",
            "         [ 1.7794e-01],\n",
            "         [ 2.5843e-01],\n",
            "         [-1.8485e-02],\n",
            "         [ 1.1710e-03],\n",
            "         [-2.3458e-01],\n",
            "         [-3.8892e-01],\n",
            "         [ 7.8968e-02],\n",
            "         [-1.0381e-01],\n",
            "         [ 1.4228e-01],\n",
            "         [-1.9599e-01],\n",
            "         [ 1.3629e-01],\n",
            "         [-3.5932e-02],\n",
            "         [ 1.5756e-01],\n",
            "         [ 1.1260e-01],\n",
            "         [-2.1303e-01],\n",
            "         [ 1.4884e-01],\n",
            "         [-3.5497e-01],\n",
            "         [-3.8404e-03],\n",
            "         [-1.7945e-01],\n",
            "         [ 2.9746e-01],\n",
            "         [-1.2146e-01],\n",
            "         [-3.6333e-01],\n",
            "         [-3.7160e-01],\n",
            "         [-1.1756e-02],\n",
            "         [-2.4428e-01],\n",
            "         [-9.7304e-02],\n",
            "         [-3.9248e-02],\n",
            "         [ 1.2694e-01],\n",
            "         [-4.0617e-01],\n",
            "         [ 7.1413e-02],\n",
            "         [ 2.5952e-01],\n",
            "         [-3.9448e-01],\n",
            "         [-2.7876e-01],\n",
            "         [-1.2702e-04],\n",
            "         [ 1.1049e-01],\n",
            "         [ 1.7716e-01],\n",
            "         [-6.4915e-02],\n",
            "         [-7.7695e-02]],\n",
            "\n",
            "        [[-9.8272e-02],\n",
            "         [ 7.6080e-02],\n",
            "         [ 1.6347e-02],\n",
            "         [-2.2181e-02],\n",
            "         [ 1.8022e-02],\n",
            "         [ 1.9438e-03],\n",
            "         [-1.2830e-01],\n",
            "         [ 5.3013e-01],\n",
            "         [ 7.9631e-02],\n",
            "         [ 7.1663e-02],\n",
            "         [-3.6818e-01],\n",
            "         [ 5.2675e-02],\n",
            "         [-9.4330e-03],\n",
            "         [ 6.4795e-02],\n",
            "         [-6.1854e-02],\n",
            "         [-1.3681e-01],\n",
            "         [ 3.2346e-01],\n",
            "         [ 5.8116e-02],\n",
            "         [-1.2632e-01],\n",
            "         [ 7.1233e-02],\n",
            "         [-2.5241e-01],\n",
            "         [-2.9866e-01],\n",
            "         [-9.6072e-02],\n",
            "         [-1.2044e-01],\n",
            "         [ 8.2934e-02],\n",
            "         [ 4.3553e-04],\n",
            "         [ 1.3400e-01],\n",
            "         [-1.4204e-03],\n",
            "         [ 8.4028e-02],\n",
            "         [ 1.9147e-02],\n",
            "         [-1.2679e-01],\n",
            "         [-1.4598e-01],\n",
            "         [-1.2818e-01],\n",
            "         [-4.8822e-02],\n",
            "         [-1.1227e-01],\n",
            "         [ 9.7023e-07],\n",
            "         [ 1.7587e-01],\n",
            "         [-3.9662e-01],\n",
            "         [-3.2945e-01],\n",
            "         [-9.6940e-02]]], requires_grad=True)\n",
            "Parameter containing:\n",
            "tensor([[[-1.3823],\n",
            "         [ 0.1958],\n",
            "         [-0.9205],\n",
            "         [ 0.4015],\n",
            "         [ 0.6923]]], requires_grad=True)\n"
          ],
          "name": "stdout"
        }
      ]
    },
    {
      "cell_type": "markdown",
      "metadata": {
        "id": "83041w4gwwMm",
        "colab_type": "text"
      },
      "source": [
        "For the purpose of prediction first 64 hours from test data is taken as input values and the remainig test set was divided to equal lenght batches of 12 hours. There was 164 test batches. In the prediction phase input data was fed to model in iterative way. In first iteration first 64 hours from test data is fed to model and prediction is compared to the next 12 hours of test data. In the next iteration the 12 hour batch of test data is appended to input data and the prediction is done with this new input data. Mean absolute error (MAE) score is calculated to the prediction. MAE scores for each test batch are shown in Figure 6. It can bee seen that mean absolute error gets bigger when moving away from the split point of training data. In the first 10 batches MAE is less than 10, but after that is increases substantially. This is expectable because model isn't updated between iterations with new input data."
      ]
    },
    {
      "cell_type": "code",
      "metadata": {
        "colab_type": "code",
        "id": "3X46YmG3YJFd",
        "colab": {}
      },
      "source": [
        "# function for splitting test data to non-overlapping batches of n_out hours\n",
        "def split_test_data(data, n_out):\n",
        "    y = list()\n",
        "    in_start = 64\n",
        "    for _ in range(len(data)):\n",
        "        # define the end of the sequence\n",
        "        in_end = in_start + n_out\n",
        "        # check that we have enough data for this instance\n",
        "        if in_end < len(data):\n",
        "            batch = data[in_start:in_end]\n",
        "            y.append(batch)\n",
        "            in_start += n_out\n",
        "    \n",
        "    y = np.array(y)       \n",
        "    y = np.transpose(y, (0,2,1))\n",
        "    return y"
      ],
      "execution_count": 294,
      "outputs": []
    },
    {
      "cell_type": "code",
      "metadata": {
        "colab_type": "code",
        "id": "UDyu6ypqJug3",
        "colab": {
          "base_uri": "https://localhost:8080/",
          "height": 50
        },
        "outputId": "5789b6e5-c3d7-4ae1-e7e5-9b9c1ca54cf3"
      },
      "source": [
        "# split test data to batches of n_out hours\n",
        "# and reshape test data to [batches, channels, nsteps]\n",
        "test_batches = split_test_data(test, output_steps)\n",
        "print(test.shape)\n",
        "print(test_batches.shape)"
      ],
      "execution_count": 295,
      "outputs": [
        {
          "output_type": "stream",
          "text": [
            "(2040, 4)\n",
            "(164, 4, 12)\n"
          ],
          "name": "stdout"
        }
      ]
    },
    {
      "cell_type": "code",
      "metadata": {
        "colab_type": "code",
        "id": "gkMYtheh_Tz8",
        "colab": {}
      },
      "source": [
        "# function for predicting next n_out hours values based on \"n_input\" previous time steps using the trained model\n",
        "def predict(model, input_data, n_input, device):\n",
        "    # retrieve last observations for input data\n",
        "    # last observations from input data have not been used in training\n",
        "    # inputs = input_data[-n_input:, :]\n",
        "    inputs = input_data[:n_input,:]\n",
        "    # Standardize input data\n",
        "    scaler = StandardScaler().fit(inputs)\n",
        "    scaler2 = StandardScaler().fit(inputs[:,0].reshape(-1,1))\n",
        "    inputs_scaled = scaler.transform(inputs)\n",
        "    # reshape into [1, channels, n_input]\n",
        "    inputs_reshaped = inputs_scaled.reshape(1, inputs_scaled.shape[1], inputs_scaled.shape[0])\n",
        "    inputs = torch.tensor(inputs_reshaped, device=device, dtype=torch.float)\n",
        "    # forecast the next n_out hours\n",
        "    model.eval()\n",
        "    model.to(device)\n",
        "    with torch.no_grad():\n",
        "        inputs = inputs.to(device)\n",
        "        outputs = model.forward(inputs)\n",
        "        outputs = outputs.cpu().data.numpy()\n",
        "        # scale back to original form and reshape output to [batch, channel, nsteps]\n",
        "        outputs_rescaled = scaler2.inverse_transform(outputs.reshape(outputs.shape[2],outputs.shape[1]))\n",
        "        outputs_reshaped = outputs_rescaled.reshape(1, outputs_rescaled.shape[1], outputs_rescaled.shape[0])\n",
        "    return outputs_reshaped"
      ],
      "execution_count": 296,
      "outputs": []
    },
    {
      "cell_type": "code",
      "metadata": {
        "colab_type": "code",
        "id": "uZoXkDAr9pk5",
        "colab": {}
      },
      "source": [
        "def evaluate_predictions(actual, predicted):\n",
        "    scores = list()\n",
        "    # calculate mean absolute error (MAE) score for each n_out hour prediction period\n",
        "    for i in range(actual.shape[0]):\n",
        "        # calculate MAE\n",
        "        mae = mean_absolute_error(actual[i,0], predicted[i,0].squeeze())\n",
        "        # store\n",
        "        scores.append(mae)\n",
        "        # calculate average MAE\n",
        "        mae_average = sum(scores) / len(scores)\n",
        "    return mae_average, np.array(scores)"
      ],
      "execution_count": 297,
      "outputs": []
    },
    {
      "cell_type": "code",
      "metadata": {
        "colab_type": "code",
        "id": "t2c1dP4j_NEn",
        "colab": {}
      },
      "source": [
        "# evaluate model predictions using walk-forward validation\n",
        "# test data is divided to batches of n_out hours and for each batch MAE value is calculated\n",
        "def evaluate_model(model, input_data, test_batches, n_input, device):\n",
        "    # walk-forward validation over each batch\n",
        "    predictions = list()\n",
        "    for i in range(len(test_batches)):\n",
        "        # predict the n_out hours\n",
        "        yhat = predict(model, input_data, n_input, device)\n",
        "        # store the predictions\n",
        "        predictions.append(yhat)\n",
        "        # get real observation from the test data and add to input_data for predicting the next n_out hours\n",
        "        test_reshaped = test_batches[i, :, :].reshape(test_batches.shape[2], test_batches.shape[1])\n",
        "        input_data = np.concatenate((input_data, test_reshaped), axis=0)\n",
        "        #print(f'Shape of concaneted input data {input_data.shape}')\n",
        "    # evaluate predictions for each batch\n",
        "    predictions = np.array(predictions)\n",
        "    pred_squeezed = np.squeeze(predictions, axis=1)\n",
        "    mae_average, scores = evaluate_predictions(test_batches, pred_squeezed)\n",
        "    return mae_average, scores, pred_squeezed"
      ],
      "execution_count": 298,
      "outputs": []
    },
    {
      "cell_type": "code",
      "metadata": {
        "colab_type": "code",
        "id": "bRhcxK_dN4qE",
        "colab": {
          "base_uri": "https://localhost:8080/",
          "height": 67
        },
        "outputId": "1f30c9b7-8fbc-4f5e-9f5c-243bb658de55"
      },
      "source": [
        "# calculate MAE values for the mode predictions\n",
        "mae_average, mae_scores, predictions = evaluate_model(model_trained, test, test_batches, input_steps, device)\n",
        "# MAE for the first 10 batches\n",
        "mae_average_10batch = sum(mae_scores[:10]) / len(mae_scores[:10])\n",
        "print(mae_average_10batch)\n",
        "print(mae_average)\n",
        "print(predictions.shape)"
      ],
      "execution_count": 299,
      "outputs": [
        {
          "output_type": "stream",
          "text": [
            "4.55392950852712\n",
            "17.736060184385714\n",
            "(164, 1, 12)\n"
          ],
          "name": "stdout"
        }
      ]
    },
    {
      "cell_type": "code",
      "metadata": {
        "colab_type": "code",
        "id": "aKVNYxPblN0d",
        "colab": {
          "base_uri": "https://localhost:8080/",
          "height": 404
        },
        "outputId": "efdbc6db-f3b4-4621-b582-709f68cd1631"
      },
      "source": [
        "# plot the MAE over different test batches\n",
        "plt.figure(figsize=(10,6))\n",
        "plt.plot(range(len(mae_scores)), mae_scores)\n",
        "plt.title('MAE over test batches')\n",
        "plt.legend(['MAE'])\n",
        "plt.xlabel('Batch number')\n",
        "plt.ylabel('Mean absolute error')\n",
        "plt.savefig('MAE_batches.png')"
      ],
      "execution_count": 300,
      "outputs": [
        {
          "output_type": "display_data",
          "data": {
            "image/png": "[encoded data removed]",
            "text/plain": [
              "<Figure size 720x432 with 1 Axes>"
            ]
          },
          "metadata": {
            "tags": [],
            "needs_background": "light"
          }
        }
      ]
    },
    {
      "cell_type": "markdown",
      "metadata": {
        "id": "IYWKcKxGwwNc",
        "colab_type": "text"
      },
      "source": [
        "In the Figure 7 there are shown plots of input data, true target data and predictions for the first test batches. It's obvious that the model performace is not very good. The model doesn't capture the high concentration peaks, neither the shape of the variation. We tried also with bigger number of filters but that resulted even worse predictions with huge variation. Model predictions are compared to naive forecast, i.e. last 48 hours are used as a  prediction for next 48 hours. The MAE score of naive prediction is 17.86. Model outperfoms the naive forecast."
      ]
    },
    {
      "cell_type": "code",
      "metadata": {
        "colab_type": "code",
        "id": "f6fwz1rKcK7d",
        "colab": {}
      },
      "source": [
        "# function for plotting predictions and true observations to same figure\n",
        "# figure is created per test batch\n",
        "# modified function, original from https://github.com/JEddy92/TimeSeries_Seq2Seq/blob/master/notebooks/TS_Seq2Seq_Conv_Full.ipynb\n",
        "def plot_predictions(input_data, target_data, predictions, batch_ind, train_tail_len):\n",
        "    input_series = input_data[:,0]\n",
        "    pred_series = predictions[batch_ind,0,:]\n",
        "    target_series = target_data[batch_ind,0,:]\n",
        "      \n",
        "    input_series_tail = np.concatenate((input_series[-train_tail_len:],target_series[:1]), axis=0) \n",
        "    print(f'Shape of input_series_tail {input_series_tail.shape}')\n",
        "    x = input_series_tail.shape[0]\n",
        "    pred_steps = pred_series.shape[0]\n",
        "      \n",
        "    plt.figure(figsize=(10,6))   \n",
        "      \n",
        "    plt.plot(range(1,x+1),input_series_tail)\n",
        "    plt.plot(range(x,x+pred_steps),target_series,color='orange')\n",
        "    plt.plot(range(x,x+pred_steps),pred_series,color='teal',linestyle='--')\n",
        "      \n",
        "    plt.title('Batch index %d' % batch_ind)\n",
        "    plt.legend(['Input data','Target series','Predictions'])\n",
        "    plt.xlabel('Hours')\n",
        "    plt.ylabel('PM10 concentrations [micro g/m³]')"
      ],
      "execution_count": 301,
      "outputs": []
    },
    {
      "cell_type": "code",
      "metadata": {
        "id": "j_RocwY2fAYI",
        "colab_type": "code",
        "colab": {
          "base_uri": "https://localhost:8080/",
          "height": 50
        },
        "outputId": "9308a79e-7ede-4e59-cd33-29e9edc351bf"
      },
      "source": [
        "pred_series = predictions[0,0,:]\n",
        "target_series = test_batches[0,0,:]\n",
        "print(pred_series.shape)\n",
        "print(target_series[:1])"
      ],
      "execution_count": 302,
      "outputs": [
        {
          "output_type": "stream",
          "text": [
            "(12,)\n",
            "[12.1]\n"
          ],
          "name": "stdout"
        }
      ]
    },
    {
      "cell_type": "code",
      "metadata": {
        "colab_type": "code",
        "id": "nr2MVZ1oldtt",
        "colab": {
          "base_uri": "https://localhost:8080/",
          "height": 421
        },
        "outputId": "cf6183c2-a630-49e4-9194-fdebd43eb83a"
      },
      "source": [
        "plot_predictions(train, test_batches, predictions, batch_ind=0, train_tail_len=64)\n",
        "plt.savefig('forecast0.png')"
      ],
      "execution_count": 303,
      "outputs": [
        {
          "output_type": "stream",
          "text": [
            "Shape of input_series_tail (65,)\n"
          ],
          "name": "stdout"
        },
        {
          "output_type": "display_data",
          "data": {
            "image/png": "[encoded data removed]",
            "text/plain": [
              "<Figure size 720x432 with 1 Axes>"
            ]
          },
          "metadata": {
            "tags": [],
            "needs_background": "light"
          }
        }
      ]
    },
    {
      "cell_type": "code",
      "metadata": {
        "colab_type": "code",
        "id": "UP8_xGD-lalf",
        "colab": {
          "base_uri": "https://localhost:8080/",
          "height": 421
        },
        "outputId": "cf269a24-84a8-45a3-8663-d984e23382c1"
      },
      "source": [
        "plot_predictions(train, test_batches, predictions, batch_ind=1, train_tail_len=64)\n",
        "plt.savefig('forecast1.png')"
      ],
      "execution_count": 304,
      "outputs": [
        {
          "output_type": "stream",
          "text": [
            "Shape of input_series_tail (65,)\n"
          ],
          "name": "stdout"
        },
        {
          "output_type": "display_data",
          "data": {
            "image/png": "[encoded data removed]",
            "text/plain": [
              "<Figure size 720x432 with 1 Axes>"
            ]
          },
          "metadata": {
            "tags": [],
            "needs_background": "light"
          }
        }
      ]
    },
    {
      "cell_type": "code",
      "metadata": {
        "colab_type": "code",
        "id": "39S0Tq1_lfOs",
        "colab": {
          "base_uri": "https://localhost:8080/",
          "height": 421
        },
        "outputId": "95fd3c29-32c3-4617-aa12-65286d0f8308"
      },
      "source": [
        "plot_predictions(train, test_batches, predictions, batch_ind=7, train_tail_len=64)\n",
        "plt.savefig('forecast2.png')"
      ],
      "execution_count": 305,
      "outputs": [
        {
          "output_type": "stream",
          "text": [
            "Shape of input_series_tail (65,)\n"
          ],
          "name": "stdout"
        },
        {
          "output_type": "display_data",
          "data": {
            "image/png": "[encoded data removed]",
            "text/plain": [
              "<Figure size 720x432 with 1 Axes>"
            ]
          },
          "metadata": {
            "tags": [],
            "needs_background": "light"
          }
        }
      ]
    },
    {
      "cell_type": "code",
      "metadata": {
        "colab_type": "code",
        "id": "fzJkieQ69uB-",
        "colab": {}
      },
      "source": [
        "# make naive forecast by taking last n_out hours as the prediction for next n_out hours and calculate MAE\n",
        "def evaluate_naive(input_data, test, n_input, n_out):\n",
        "    value = input_data[:n_input, 0]\n",
        "    predictions = list()\n",
        "    for i in range(len(test)):\n",
        "        # take last n_out hours from test data\n",
        "        value = input_data[-n_out:, 0]\n",
        "        predictions.append(value)\n",
        "        # get real observation from test data and add to input_data\n",
        "        input_data = np.concatenate((value, test[i, 0, :]), axis=0).reshape(-1,1)\n",
        "    # evaluate predictions for each test batches\n",
        "    predictions = np.array(predictions)\n",
        "    predictions = predictions.reshape(predictions.shape[0],1,predictions.shape[1])\n",
        "    mae_average, scores = evaluate_predictions(test, predictions)\n",
        "    return mae_average, scores"
      ],
      "execution_count": 306,
      "outputs": []
    },
    {
      "cell_type": "code",
      "metadata": {
        "colab_type": "code",
        "id": "4sYh8-8DF4dn",
        "colab": {
          "base_uri": "https://localhost:8080/",
          "height": 34
        },
        "outputId": "dd864436-7052-4591-e83b-a8b0b9f7b8bb"
      },
      "source": [
        "# calculate MAE values for the naive forecast\n",
        "naive_mae_average, naive_mae_batches = evaluate_naive(test, test_batches, input_steps, output_steps)\n",
        "print(naive_mae_average)"
      ],
      "execution_count": 307,
      "outputs": [
        {
          "output_type": "stream",
          "text": [
            "19.923323170731713\n"
          ],
          "name": "stdout"
        }
      ]
    },
    {
      "cell_type": "markdown",
      "metadata": {
        "colab_type": "text",
        "id": "zoOIX8M4KgKx"
      },
      "source": [
        "## 4. Conclusions\n",
        "\n",
        "A model for predicting street dust concentrations for 12 hours ahead using past 64 hours observations was developed. Model is implemented with Pytorch. Model architecture contains stacks of dilated convolutions, residual connections, a LeakyRELU activation function and conditioning with multivariate input data.  Input data is hourly observations of PM10 concentrations, amount of rain, temperature and wind speed of 28 months. Input data divided into training, validation and test sets with moving window method, and scaled to zero mean and unit variance before feeding to model. Model outputs directly the 12 hours forecast, and the same model is used for making the predictions for all the test batches.\n",
        "\n",
        "The average MAE of the model for all the test batches is 17.7 and for the first 10 batches 4.6. The MAE score of naive prediction is 19.9. Model outperfoms the naive forecast, but the prediction results are not good. The model doesn't capture the high variance of concentration curve. The training and validation losses indicates that the model is underfitting slightly. Adding more filters to the conv layers could increase the model performance.  Also adding hourly traffic amount as a conditioning data could affect positively to the model performance."
      ]
    },
    {
      "cell_type": "markdown",
      "metadata": {
        "colab_type": "text",
        "id": "XnVlpna8UkQA"
      },
      "source": [
        "## References\n",
        "\n",
        "\n",
        "A. Borovykh, S. Bohte, and C. W. Oosterlee, Conditional Time Series Forecasting with Convolutional Neural Networks, ArXiv e-prints, (2018)\n",
        "\n",
        "A. van den Oord, S. Dieleman, H. Zen, K. Simonyan, O. Vinyals, A. Graves, N. Kalchbrenner, A. Senior, and K. Kavukcuoglu, WaveNet: A Generative Model for Raw Audio, ArXiv e-prints, (2016)\n",
        "\n",
        "https://github.com/JEddy92/TimeSeries_Seq2Seq/blob/master/notebooks/TS_Seq2Seq_Conv_Full.ipynb"
      ]
    }
  ]
}